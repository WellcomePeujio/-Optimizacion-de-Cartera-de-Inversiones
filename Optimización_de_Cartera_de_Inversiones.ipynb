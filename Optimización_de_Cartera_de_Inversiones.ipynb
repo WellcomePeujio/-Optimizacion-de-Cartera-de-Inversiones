{
  "nbformat": 4,
  "nbformat_minor": 0,
  "metadata": {
    "colab": {
      "private_outputs": true,
      "provenance": [],
      "authorship_tag": "ABX9TyNb4kBtlLb/g1zTloShMAb2",
      "include_colab_link": true
    },
    "kernelspec": {
      "name": "python3",
      "display_name": "Python 3"
    },
    "language_info": {
      "name": "python"
    }
  },
  "cells": [
    {
      "cell_type": "markdown",
      "metadata": {
        "id": "view-in-github",
        "colab_type": "text"
      },
      "source": [
        "<a href=\"https://colab.research.google.com/github/WellcomePeujio/-Optimizacion-de-Cartera-de-Inversiones/blob/main/Optimizaci%C3%B3n_de_Cartera_de_Inversiones.ipynb\" target=\"_parent\"><img src=\"https://colab.research.google.com/assets/colab-badge.svg\" alt=\"Open In Colab\"/></a>"
      ]
    },
    {
      "cell_type": "markdown",
      "source": [
        "# Optimización de Cartera de Inversiones\n",
        "\n",
        "**Problema**: Un inversor tiene $100,000 para distribuir entre tres activos: A, B y C. Los rendimientos esperados son 8%, 10% y 12%, respectivamente, y las desviaciones estándar son 5%, 7% y 9%. La correlación entre A y B es 0.6, entre B y C es 0.4, y entre A y C es 0.5.\n",
        "\n",
        "**Preguntas**:\n",
        "\n",
        "1. Encuentra los pesos óptimos para maximizar el rendimiento ajustado por riesgo.\n",
        "2. Calcula el riesgo total de la cartera si invierte un 40% en A, 30% en B y 30% en C.\n"
      ],
      "metadata": {
        "id": "75_k_hclTUy3"
      }
    },
    {
      "cell_type": "markdown",
      "source": [
        "# Resolución de la Optimización de Cartera de Inversiones\n",
        "\n",
        "## Paso 1: Datos y Fórmulas Básicas\n",
        "\n",
        "El inversor tiene $100,000 para distribuir entre tres activos: A, B y C, con los siguientes datos:\n",
        "\n",
        "- **Rendimientos Esperados**:\n",
        "  - Activo A: $R_A = 8\\% = 0.08$\n",
        "  - Activo B: $R_B = 10\\% = 0.10$\n",
        "  - Activo C: $R_C = 12\\% = 0.12$\n",
        "\n",
        "- **Desviaciones Estándar (Volatilidades)**:\n",
        "  - Activo A: $\\sigma_A = 5\\% = 0.05$\n",
        "  - Activo B: $\\sigma_B = 7\\% = 0.07$\n",
        "  - Activo C: $\\sigma_C = 9\\% = 0.09$\n",
        "\n",
        "- **Correlaciones**:\n",
        "  - Entre A y B: $\\rho_{A,B} = 0.6$\n",
        "  - Entre B y C: $\\rho_{B,C} = 0.4$\n",
        "  - Entre A y C: $\\rho_{A,C} = 0.5$\n",
        "\n",
        "## Paso 2: Cálculo del Rendimiento Esperado del Portafolio\n",
        "\n",
        "El rendimiento esperado $(R_P)$ de una cartera con pesos $w_A$, $w_B$, y $w_C$ es:\n",
        "\n",
        "$$\n",
        "R_P = w_A \\cdot R_A + w_B \\cdot R_B + w_C \\cdot R_C\n",
        "$$\n",
        "\n",
        "donde:\n",
        "- $w_A = 0.4$,\n",
        "- $w_B = 0.3$,\n",
        "- $w_C = 0.3$.\n",
        "\n",
        "Sustituyendo los valores:\n",
        "\n",
        "$$\n",
        "R_P = 0.4 \\cdot 0.08 + 0.3 \\cdot 0.10 + 0.3 \\cdot 0.12\n",
        "$$\n",
        "\n",
        "Calculamos el rendimiento esperado:\n",
        "\n",
        "$$\n",
        "R_P = 0.032 + 0.03 + 0.036 = 0.098 = 9.8\\%\n",
        "$$\n",
        "\n",
        "Por lo tanto, el rendimiento esperado de la cartera es del **9.8%**.\n",
        "\n",
        "## Paso 3: Cálculo del Riesgo Total del Portafolio\n",
        "\n",
        "El riesgo total $(\\sigma_P)$ de la cartera se calcula con la siguiente fórmula que incorpora las desviaciones estándar y las correlaciones:\n",
        "\n",
        "$$\n",
        "\\sigma_P = \\sqrt{(w_A \\cdot \\sigma_A)^2 + (w_B \\cdot \\sigma_B)^2 + (w_C \\cdot \\sigma_C)^2 + 2 \\cdot w_A \\cdot w_B \\cdot \\sigma_A \\cdot \\sigma_B \\cdot \\rho_{A,B} + 2 \\cdot w_B \\cdot w_C \\cdot \\sigma_B \\cdot \\sigma_C \\cdot \\rho_{B,C} + 2 \\cdot w_A \\cdot w_C \\cdot \\sigma_A \\cdot \\sigma_C \\cdot \\rho_{A,C}}\n",
        "$$\n",
        "\n",
        "Sustituyendo los valores dados:\n",
        "\n",
        "1. Calculamos cada término individualmente:\n",
        "\n",
        "   - $(w_A \\cdot \\sigma_A)^2 = (0.4 \\cdot 0.05)^2 = 0.0004$\n",
        "   - $(w_B \\cdot \\sigma_B)^2 = (0.3 \\cdot 0.07)^2 = 0.000441$\n",
        "   - $(w_C \\cdot \\sigma_C)^2 = (0.3 \\cdot 0.09)^2 = 0.000729$\n",
        "   - $2 \\cdot w_A \\cdot w_B \\cdot \\sigma_A \\cdot \\sigma_B \\cdot \\rho_{A,B} = 2 \\cdot 0.4 \\cdot 0.3 \\cdot 0.05 \\cdot 0.07 \\cdot 0.6 = 0.000252$\n",
        "   - $2 \\cdot w_B \\cdot w_C \\cdot \\sigma_B \\cdot \\sigma_C \\cdot \\rho_{B,C} = 2 \\cdot 0.3 \\cdot 0.3 \\cdot 0.07 \\cdot 0.09 \\cdot 0.4 = 0.0004536$\n",
        "   - $2 \\cdot w_A \\cdot w_C \\cdot \\sigma_A \\cdot \\sigma_C \\cdot \\rho_{A,C} = 2 \\cdot 0.4 \\cdot 0.3 \\cdot 0.05 \\cdot 0.09 \\cdot 0.5 = 0.00027$\n",
        "\n",
        "2. Sumamos estos valores:\n",
        "\n",
        "   $$\n",
        "   \\sigma_P = \\sqrt{0.0004 + 0.000441 + 0.000729 + 0.000252 + 0.0004536 + 0.00027} = \\sqrt{0.0025456} \\approx 0.0505\n",
        "   $$\n",
        "\n",
        "Por lo tanto, el riesgo total de la cartera es aproximadamente **5.05%**.\n",
        "\n",
        "## Paso 4: Optimización de Pesos para Maximizar el Rendimiento Ajustado por Riesgo\n",
        "\n",
        "Para maximizar el rendimiento ajustado por riesgo, podemos emplear técnicas de optimización como la programación cuadrática, que minimiza $\\sigma_P$ mientras maximiza $R_P$. Esto puede resolverse computacionalmente utilizando librerías de optimización en Python como `scipy.optimize` para obtener los pesos óptimos que maximizan el rendimiento ajustado por riesgo en la cartera.\n"
      ],
      "metadata": {
        "id": "vvXS7-gbTa3A"
      }
    },
    {
      "cell_type": "code",
      "source": [
        "import numpy as np\n",
        "import matplotlib.pyplot as plt\n",
        "\n",
        "# Datos del problema\n",
        "rendimientos = np.array([0.08, 0.10, 0.12])  # Rendimientos esperados de A, B y C\n",
        "desviaciones = np.array([0.05, 0.07, 0.09])  # Desviaciones estándar de A, B y C\n",
        "correlaciones = np.array([[1, 0.6, 0.5],\n",
        "                          [0.6, 1, 0.4],\n",
        "                          [0.5, 0.4, 1]])  # Matriz de correlación entre A, B y C\n",
        "\n",
        "# Pesos de inversión\n",
        "pesos = np.array([0.4, 0.3, 0.3])\n",
        "\n",
        "# Cálculo del rendimiento esperado de la cartera\n",
        "rendimiento_cartera = np.dot(pesos, rendimientos)\n",
        "\n",
        "# Cálculo del riesgo total de la cartera\n",
        "covarianzas = np.outer(desviaciones, desviaciones) * correlaciones  # Matriz de covarianzas\n",
        "riesgo_cartera = np.sqrt(np.dot(pesos, np.dot(covarianzas, pesos)))\n",
        "\n",
        "# Simulación de diferentes combinaciones de pesos\n",
        "pesos_A = np.linspace(0, 1, 100)\n",
        "rendimientos_cartera_sim = []\n",
        "riesgos_cartera_sim = []\n",
        "\n",
        "for wA in pesos_A:\n",
        "    wB = (1 - wA) / 2\n",
        "    wC = (1 - wA) / 2\n",
        "    pesos_sim = np.array([wA, wB, wC])\n",
        "    rendimiento_sim = np.dot(pesos_sim, rendimientos)\n",
        "    riesgo_sim = np.sqrt(np.dot(pesos_sim, np.dot(covarianzas, pesos_sim)))\n",
        "    rendimientos_cartera_sim.append(rendimiento_sim)\n",
        "    riesgos_cartera_sim.append(riesgo_sim)\n",
        "\n",
        "# Gráfico de la relación entre riesgo y rendimiento para diferentes combinaciones de pesos\n",
        "plt.figure(figsize=(10, 6))\n",
        "plt.plot(riesgos_cartera_sim, rendimientos_cartera_sim, label=\"Frontera de Riesgo-Rendimiento\", color=\"blue\")\n",
        "plt.scatter(riesgo_cartera, rendimiento_cartera, color=\"red\", label=\"Cartera (40% A, 30% B, 30% C)\", zorder=5)\n",
        "plt.xlabel(\"Riesgo (Volatilidad)\")\n",
        "plt.ylabel(\"Rendimiento Esperado\")\n",
        "plt.title(\"Relación Riesgo-Rendimiento para una Cartera de Tres Activos\")\n",
        "plt.legend()\n",
        "plt.grid(True)\n",
        "plt.show()\n"
      ],
      "metadata": {
        "id": "3n8JOfQDT8iH"
      },
      "execution_count": null,
      "outputs": []
    }
  ]
}